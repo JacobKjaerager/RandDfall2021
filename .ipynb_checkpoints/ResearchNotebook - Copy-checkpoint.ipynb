{
 "cells": [
  {
   "cell_type": "code",
   "execution_count": 25,
   "id": "9b02ff3f",
   "metadata": {},
   "outputs": [],
   "source": [
    "import numpy as np\n",
    "import seaborn as sn\n",
    "import tensorflow as tf\n",
    "import pandas as pd\n",
    "import scipy.io as spio\n",
    "from pathlib import Path\n",
    "from math import floor, ceil\n",
    "from keras.models import Sequential\n",
    "from keras.layers import Dense\n",
    "from keras.layers import LSTM\n",
    "from keras import backend as K\n",
    "from sklearn.metrics import classification_report, confusion_matrix\n",
    "import plotly\n",
    "import matplotlib.pyplot as plt\n",
    "%matplotlib inline"
   ]
  },
  {
   "cell_type": "code",
   "execution_count": 27,
   "id": "a1728385",
   "metadata": {},
   "outputs": [],
   "source": [
    "CONTROL_DICT = {\n",
    "    \"EPOCHS\": 50,\n",
    "    \"cross_validation_size\": 0.7,\n",
    "    \"model_parameters\": {\n",
    "        \"optimizer\": \"adam\",\n",
    "        \"loss_function\": \"mse\",\n",
    "        \"first_layer\": {\n",
    "            \"neurons\": 50,\n",
    "            \"activation_function\": \"tanh\"\n",
    "        },\n",
    "        \"second_layer\": {\n",
    "            \"neurons\": 50,\n",
    "            \"activation_function\": \"tanh\"\n",
    "        }\n",
    "    }\n",
    "}"
   ]
  },
  {
   "cell_type": "code",
   "execution_count": 26,
   "id": "5aaf7682",
   "metadata": {},
   "outputs": [],
   "source": [
    "def get_heatmap_confusion_matrix(df: pd.DataFrame):\n",
    "    plt.figure(figsize = (15,10))\n",
    "    df_cm = pd.DataFrame(confusion_matrix(df.real, df.predicted, normalize=\"true\"), range(1,4,1), range(1,4,1))\n",
    "    sn.heatmap(df_cm, annot=True)\n",
    "\n",
    "\n",
    "def get_model(model_selector: str, train_x: dict) -> Sequential:\n",
    "    model = Sequential()\n",
    "    if model_selector == \"VLSTM\": #Vanilla LSTM        \n",
    "        model.add(\n",
    "            LSTM(units=CONTROL_DICT[\"model_parameters\"][\"first_layer\"][\"neurons\"], \n",
    "                activation=CONTROL_DICT[\"model_parameters\"][\"first_layer\"][\"activation_function\"],\n",
    "                input_shape=train_x[0].shape))\n",
    "        model.add(Dense(1))\n",
    "        model.compile(optimizer='adam', loss='mse')\n",
    "        \n",
    "    elif model_selector == \"SLSTM\": #Stacked LSTM\n",
    "        model.add(LSTM(units=CONTROL_DICT[\"model_parameters\"][\"first_layer\"][\"neurons\"], \n",
    "                     activation=CONTROL_DICT[\"model_parameters\"][\"first_layer\"][\"activation_function\"], \n",
    "                     return_sequences=True, \n",
    "                     input_shape=train_x[0].shape))\n",
    "        model.add(LSTM(units=CONTROL_DICT[\"model_parameters\"][\"second_layer\"][\"neurons\"], \n",
    "                       activation=CONTROL_DICT[\"model_parameters\"][\"second_layer\"][\"activation_function\"]))\n",
    "        model.add(Dense(1))\n",
    "        model.compile(optimizer=CONTROL_DICT[\"model_parameters\"][\"optimizer\"], \n",
    "                      loss=CONTROL_DICT[\"model_parameters\"][\"loss_function\"])\n",
    "        \n",
    "    return model\n",
    "\n",
    "def plot_groups(df: pd.DataFrame):    \n",
    "    real_groups = df.groupby(\"real\")\n",
    "    t1 = real_groups.get_group(1).groupby(\"predicted\").count()\n",
    "    t2 = real_groups.get_group(2).groupby(\"predicted\").count()\n",
    "    t3 = real_groups.get_group(3).groupby(\"predicted\").count()\n",
    "    plt.rcParams['figure.figsize'] = [15, 10]\n",
    "    labels = t1.index\n",
    "    x = np.arange(len(labels))\n",
    "    width = 0.25\n",
    "    fig, ax = plt.subplots()\n",
    "    first_data_bar = [t1.real.loc[1], t2.real.loc[1], t3.real.loc[1]]\n",
    "    second_data_bar = [t1.real.loc[2], t2.real.loc[2], t3.real.loc[2]]\n",
    "    third_data_bar = [t1.real.loc[3], t2.real.loc[3], t3.real.loc[3]]\n",
    "\n",
    "\n",
    "    rects1 = ax.bar(x - width, first_data_bar, width, label='Predicted as 1')\n",
    "    rects2 = ax.bar(x, second_data_bar, width, label='Predicted as 2')\n",
    "    rects3 = ax.bar(x + width, third_data_bar, width, label='Predicted as 3')\n",
    "    ax.set_xlabel('Correct class')\n",
    "    ax.set_ylabel('Occurences')\n",
    "    ax.set_title('classified as in correct bin')\n",
    "    ax.set_xticks(x)\n",
    "    ax.set_xticklabels(labels)\n",
    "    ax.legend()\n",
    "\n",
    "    ax.bar_label(rects1, padding=3)\n",
    "    ax.bar_label(rects2, padding=3)\n",
    "    ax.bar_label(rects3, padding=3)\n",
    "\n",
    "    #fig.tight_layout()\n",
    "\n",
    "    plt.show()"
   ]
  },
  {
   "cell_type": "markdown",
   "id": "94f283e9",
   "metadata": {},
   "source": [
    "Import of data "
   ]
  },
  {
   "cell_type": "code",
   "execution_count": 4,
   "id": "52f673b8",
   "metadata": {},
   "outputs": [],
   "source": [
    "train_set = spio.loadmat(\"../deepFold_train\", squeeze_me=True)\n",
    "test_set = spio.loadmat(\"../deepFold_test\", squeeze_me=True)"
   ]
  },
  {
   "cell_type": "code",
   "execution_count": 5,
   "id": "10cae75f",
   "metadata": {},
   "outputs": [],
   "source": [
    "X_train = train_set[\"x_train\"][:ceil(CONTROL_DICT[\"cross_validation_size\"]*len(train_set[\"x_train\"]))]\n",
    "y_train = pd.DataFrame(train_set[\"y_train\"])[[0]].iloc[:ceil(CONTROL_DICT[\"cross_validation_size\"]*len(train_set[\"y_train\"]))]\n",
    "\n",
    "X_cv = train_set[\"x_train\"][ceil(CONTROL_DICT[\"cross_validation_size\"]*len(train_set[\"x_train\"])):]\n",
    "y_cv = pd.DataFrame(train_set[\"y_train\"])[[0]].iloc[ceil(CONTROL_DICT[\"cross_validation_size\"]*len(train_set[\"y_train\"])): ]\n",
    "\n",
    "X_test = test_set[\"x_test\"]\n",
    "y_test = pd.DataFrame(test_set[\"y_test\"])[[0]]\n"
   ]
  },
  {
   "cell_type": "markdown",
   "id": "d9fbe6f1",
   "metadata": {},
   "source": [
    "Construction of model\n",
    "\n"
   ]
  },
  {
   "cell_type": "code",
   "execution_count": null,
   "id": "b51800f5",
   "metadata": {},
   "outputs": [],
   "source": [
    "model = get_model(model_selector=\"SLSTM\", \n",
    "                  train_x=X_train)"
   ]
  },
  {
   "cell_type": "code",
   "execution_count": 24,
   "id": "ee7484af",
   "metadata": {
    "scrolled": true
   },
   "outputs": [
    {
     "name": "stdout",
     "output_type": "stream",
     "text": [
      "Epoch 1/20\n",
      "5571/5571 [==============================] - 212s 37ms/step - loss: 0.2189\n",
      "Epoch 2/20\n",
      "5571/5571 [==============================] - 206s 37ms/step - loss: 0.2176\n",
      "Epoch 3/20\n",
      "5571/5571 [==============================] - 223s 40ms/step - loss: 0.2167\n",
      "Epoch 4/20\n",
      "5571/5571 [==============================] - 206s 37ms/step - loss: 0.2164\n",
      "Epoch 5/20\n",
      "5571/5571 [==============================] - 235s 42ms/step - loss: 0.2145\n",
      "Epoch 6/20\n",
      "5571/5571 [==============================] - 293s 53ms/step - loss: 0.2142\n",
      "Epoch 7/20\n",
      "5571/5571 [==============================] - 225s 40ms/step - loss: 0.2133\n",
      "Epoch 8/20\n",
      "5571/5571 [==============================] - 219s 39ms/step - loss: 0.2129\n",
      "Epoch 9/20\n",
      "5571/5571 [==============================] - 211s 38ms/step - loss: 0.2115\n",
      "Epoch 10/20\n",
      "5571/5571 [==============================] - 209s 38ms/step - loss: 0.2106\n",
      "Epoch 11/20\n",
      "5571/5571 [==============================] - 210s 38ms/step - loss: 0.2100\n",
      "Epoch 12/20\n",
      "5571/5571 [==============================] - 219s 39ms/step - loss: 0.2087\n",
      "Epoch 13/20\n",
      "5571/5571 [==============================] - 222s 40ms/step - loss: 0.2079\n",
      "Epoch 14/20\n",
      "5571/5571 [==============================] - 226s 41ms/step - loss: 0.2072\n",
      "Epoch 15/20\n",
      "5571/5571 [==============================] - 215s 39ms/step - loss: 0.2064\n",
      "Epoch 16/20\n",
      "5571/5571 [==============================] - 222s 40ms/step - loss: 0.2060\n",
      "Epoch 17/20\n",
      "5571/5571 [==============================] - 299s 54ms/step - loss: 0.2047\n",
      "Epoch 18/20\n",
      "5571/5571 [==============================] - 295s 53ms/step - loss: 0.2042\n",
      "Epoch 19/20\n",
      "5571/5571 [==============================] - 232s 42ms/step - loss: 0.2040\n",
      "Epoch 20/20\n",
      "5571/5571 [==============================] - 215s 39ms/step - loss: 0.2034\n"
     ]
    },
    {
     "data": {
      "text/plain": [
       "<keras.callbacks.History at 0x1a203766e20>"
      ]
     },
     "execution_count": 24,
     "metadata": {},
     "output_type": "execute_result"
    }
   ],
   "source": [
    "model.fit(x=X_train, \n",
    "          y=y_train, \n",
    "          epochs=CONTROL_DICT[\"EPOCHS\"], \n",
    "          verbose=1, \n",
    "          shuffle=False)"
   ]
  },
  {
   "cell_type": "code",
   "execution_count": null,
   "id": "5cd6fa67",
   "metadata": {},
   "outputs": [],
   "source": [
    "#Predict testset.\n",
    "y_pred = model.predict(X_test, verbose=0)\n",
    "df = pd.DataFrame(columns=[\"predicted\", \"real\"])\n",
    "df[\"predicted\"] = pd.Series(y_pred.mean(axis=1).round()).astype(int)\n",
    "df[\"real\"] = y_test[0]"
   ]
  },
  {
   "cell_type": "code",
   "execution_count": null,
   "id": "794a6135",
   "metadata": {},
   "outputs": [],
   "source": [
    "print(classification_report(y_true=test_y, y_pred=pd.Series(y_pred.mean(axis=1).round()).astype(int), labels=[1, 2, 3]))\n",
    "print(\"Correct classified percentage of class 1 is: {}%\".format(round(((t1.real.loc[1]*100)/t1.real.sum()),3)))\n",
    "print(\"Correct classified percentage of class 2 is: {}%\".format(round(((t2.real.loc[2]*100)/t2.real.sum()),3)))\n",
    "print(\"Correct classified percentage of class 3 is: {}%\".format(round(((t3.real.loc[3]*100)/t3.real.sum()),3)))\n",
    "print(\"Correct percentage of testset 1 realtion between predicted 1 and 3 is: {}%\".format(round(((t1.real.loc[1]*100)/(t1.real.loc[1]+ t1.real.loc[3])),3)))\n",
    "print(\"Correct percentage of testset 3 realtion between predicted 1 and 3 is: {}%\".format(round(((t3.real.loc[3]*100)/(t3.real.loc[1]+ t3.real.loc[3])),3)))"
   ]
  },
  {
   "cell_type": "code",
   "execution_count": null,
   "id": "beeb45e2",
   "metadata": {},
   "outputs": [],
   "source": [
    "get_heatmap_confusion_matrix(df)"
   ]
  },
  {
   "cell_type": "code",
   "execution_count": null,
   "id": "b781c3ec",
   "metadata": {},
   "outputs": [],
   "source": [
    "plot_groups(df)"
   ]
  },
  {
   "cell_type": "code",
   "execution_count": 16,
   "id": "fd259275",
   "metadata": {},
   "outputs": [
    {
     "data": {
      "image/png": "[encoded data removed]",
      "text/plain": [
       "<Figure size 1080x720 with 1 Axes>"
      ]
     },
     "metadata": {
      "needs_background": "light"
     },
     "output_type": "display_data"
    }
   ],
   "source": []
  },
  {
   "cell_type": "code",
   "execution_count": 23,
   "id": "14562274",
   "metadata": {},
   "outputs": [
    {
     "name": "stdout",
     "output_type": "stream",
     "text": [
      "Correct classified percentage of class 1 is: 40.42%\n",
      "Correct classified percentage of class 2 is: 95.724%\n",
      "Correct classified percentage of class 3 is: 48.33%\n",
      "Correct percentage of testset 1 realtion between predicted 1 and 3 is: 92.691%\n",
      "Correct percentage of testset 3 realtion between predicted 1 and 3 is: 95.949%\n"
     ]
    },
    {
     "data": {
      "text/plain": [
       "3.187"
      ]
     },
     "execution_count": 23,
     "metadata": {},
     "output_type": "execute_result"
    }
   ],
   "source": [
    "\n",
    "\n",
    "print(\"Correct classified percentage of class 1 is: {}%\".format(round(((t1.real.loc[1]*100)/t1.real.sum()),3)))\n",
    "print(\"Correct classified percentage of class 2 is: {}%\".format(round(((t2.real.loc[2]*100)/t2.real.sum()),3)))\n",
    "print(\"Correct classified percentage of class 3 is: {}%\".format(round(((t3.real.loc[3]*100)/t3.real.sum()),3)))\n",
    "print(\"Correct percentage of testset 1 realtion between predicted 1 and 3 is: {}%\".format(round(((t1.real.loc[1]*100)/(t1.real.loc[1]+ t1.real.loc[3])),3)))\n",
    "print(\"Correct percentage of testset 3 realtion between predicted 1 and 3 is: {}%\".format(round(((t3.real.loc[3]*100)/(t3.real.loc[1]+ t3.real.loc[3])),3)))\n",
    "round(((t1.real.loc[3]*100)/t1.real.sum()),3)"
   ]
  },
  {
   "cell_type": "code",
   "execution_count": 158,
   "id": "79353870",
   "metadata": {},
   "outputs": [
    {
     "name": "stdout",
     "output_type": "stream",
     "text": [
      "0.3958392704474209\n",
      "0.9779162522581037\n",
      "0.38620444624911177\n"
     ]
    }
   ],
   "source": [
    "n = (pd.DataFrame(y_pred).mean(axis=1).round().astype(int) - test_y[0])\n",
    "len(n[n==0]) / y_pred.shape[0]\n",
    "\n",
    "df = pd.DataFrame(columns=[\"predicted\", \"real\"])\n",
    "df[\"predicted\"] = pd.Series(y_pred.mean(axis=1).round()).astype(int)\n",
    "df[\"real\"] = test_y[0]\n",
    "\n",
    "\n",
    "get_preiction_precision_on_class(1,df)\n",
    "get_preiction_precision_on_class(2,df)\n",
    "get_preiction_precision_on_class(3,df)"
   ]
  }
 ],
 "metadata": {
  "kernelspec": {
   "display_name": "Python 3 (ipykernel)",
   "language": "python",
   "name": "python3"
  },
  "language_info": {
   "codemirror_mode": {
    "name": "ipython",
    "version": 3
   },
   "file_extension": ".py",
   "mimetype": "text/x-python",
   "name": "python",
   "nbconvert_exporter": "python",
   "pygments_lexer": "ipython3",
   "version": "3.8.3"
  }
 },
 "nbformat": 4,
 "nbformat_minor": 5
}
