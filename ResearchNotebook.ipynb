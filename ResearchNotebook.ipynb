{
 "cells": [
  {
   "cell_type": "code",
   "execution_count": 283,
   "id": "9b02ff3f",
   "metadata": {},
   "outputs": [],
   "source": [
    "import numpy as np\n",
    "import seaborn as sn\n",
    "import tensorflow as tf\n",
    "import pandas as pd\n",
    "import scipy.io as spio\n",
    "from pathlib import Path\n",
    "from math import floor, ceil\n",
    "from keras.models import Sequential\n",
    "from keras.layers import Dense\n",
    "from keras.layers import LSTM\n",
    "from keras import backend as K\n",
    "from sklearn.metrics import classification_report, confusion_matrix\n",
    "import plotly\n",
    "import matplotlib.pyplot as plt\n",
    "%matplotlib inline"
   ]
  },
  {
   "cell_type": "code",
   "execution_count": 169,
   "id": "e4591abf",
   "metadata": {},
   "outputs": [],
   "source": [
    "CONTROL_DICT = {\n",
    "    \"EPOCHS\": 20,\n",
    "    \"cross_validation_size\": 0.7,\n",
    "    \"model_parameters\": {\n",
    "        \"optimizer\": \"adam\",\n",
    "        \"loss_function\": \"mse\",\n",
    "        \"first_layer\": {\n",
    "            \"neurons\": 50,\n",
    "            \"activation_function\": \"tanh\"\n",
    "        },\n",
    "        \"second_layer\": {\n",
    "            \"neurons\": 50,\n",
    "            \"activation_function\": \"tanh\"\n",
    "        }\n",
    "    }\n",
    "}"
   ]
  },
  {
   "cell_type": "code",
   "execution_count": 308,
   "id": "147fefac",
   "metadata": {},
   "outputs": [],
   "source": [
    "def get_heatmap_confusion_matrix(df: pd.DataFrame):\n",
    "    plt.figure(figsize = (15,10))\n",
    "    df_cm = pd.DataFrame(confusion_matrix(df.real, df.predicted, normalize=\"true\"), range(1,4,1), range(1,4,1))\n",
    "    sn.heatmap(df_cm, annot=True)\n",
    "\n",
    "\n",
    "def get_model(model_selector: str, train_x: dict) -> Sequential:\n",
    "    model = Sequential()\n",
    "    if model_selector == \"VLSTM\": #Vanilla LSTM        \n",
    "        model.add(\n",
    "            LSTM(units=CONTROL_DICT[\"model_parameters\"][\"first_layer\"][\"neurons\"], \n",
    "                activation=CONTROL_DICT[\"model_parameters\"][\"first_layer\"][\"activation_function\"],\n",
    "                input_shape=train_x[0].shape))\n",
    "        model.add(Dense(1))\n",
    "        model.compile(optimizer='adam', loss='mse')\n",
    "        \n",
    "    elif model_selector == \"SLSTM\": #Stacked LSTM\n",
    "        model.add(LSTM(units=CONTROL_DICT[\"model_parameters\"][\"first_layer\"][\"neurons\"], \n",
    "                     activation=CONTROL_DICT[\"model_parameters\"][\"first_layer\"][\"activation_function\"], \n",
    "                     return_sequences=True, \n",
    "                     input_shape=train_x[0].shape))\n",
    "        model.add(LSTM(units=CONTROL_DICT[\"model_parameters\"][\"second_layer\"][\"neurons\"], \n",
    "                       activation=CONTROL_DICT[\"model_parameters\"][\"second_layer\"][\"activation_function\"]))\n",
    "        model.add(Dense(1))\n",
    "        model.compile(optimizer=CONTROL_DICT[\"model_parameters\"][\"optimizer\"], \n",
    "                      loss=CONTROL_DICT[\"model_parameters\"][\"loss_function\"])\n",
    "        \n",
    "    return model\n",
    "\n",
    "def plot_groups(df: pd.DataFrame):    \n",
    "    real_groups = df.groupby(\"real\")\n",
    "    t1 = real_groups.get_group(1).groupby(\"predicted\").count()\n",
    "    t2 = real_groups.get_group(2).groupby(\"predicted\").count()\n",
    "    t3 = real_groups.get_group(3).groupby(\"predicted\").count()\n",
    "    plt.rcParams['figure.figsize'] = [15, 10]\n",
    "    labels = t1.index\n",
    "    x = np.arange(len(labels))\n",
    "    width = 0.25\n",
    "    fig, ax = plt.subplots()\n",
    "    first_data_bar = [t1.real.loc[1], t2.real.loc[1], t3.real.loc[1]]\n",
    "    second_data_bar = [t1.real.loc[2], t2.real.loc[2], t3.real.loc[2]]\n",
    "    third_data_bar = [t1.real.loc[3], t2.real.loc[3], t3.real.loc[3]]\n",
    "\n",
    "\n",
    "    rects1 = ax.bar(x - width, first_data_bar, width, label='classified as 1')\n",
    "    rects2 = ax.bar(x, second_data_bar, width, label='classified as 2')\n",
    "    rects3 = ax.bar(x + width, third_data_bar, width, label='classified as 3')\n",
    "    ax.set_ylabel('Occurences')\n",
    "    ax.set_title('classified as in correct bin')\n",
    "    ax.set_xticks(x)\n",
    "    ax.set_xticklabels(labels)\n",
    "    ax.legend()\n",
    "\n",
    "    ax.bar_label(rects1, padding=3)\n",
    "    ax.bar_label(rects2, padding=3)\n",
    "    ax.bar_label(rects3, padding=3)\n",
    "\n",
    "    #fig.tight_layout()\n",
    "\n",
    "    plt.show()"
   ]
  },
  {
   "cell_type": "markdown",
   "id": "cf78966a",
   "metadata": {},
   "source": [
    "Import of data "
   ]
  },
  {
   "cell_type": "code",
   "execution_count": 119,
   "id": "81868d16",
   "metadata": {},
   "outputs": [],
   "source": [
    "train_set = spio.loadmat(\"../deepFold_train\", squeeze_me=True)\n",
    "test_set = spio.loadmat(\"../deepFold_test\", squeeze_me=True)"
   ]
  },
  {
   "cell_type": "code",
   "execution_count": 132,
   "id": "10cae75f",
   "metadata": {},
   "outputs": [],
   "source": [
    "X_train = train_set[\"x_train\"][:ceil(CONTROL_DICT[\"cross_validation_size\"]*len(train_set[\"x_train\"]))]\n",
    "y_train = pd.DataFrame(train_set[\"y_train\"])[[0]].iloc[:ceil(CONTROL_DICT[\"cross_validation_size\"]*len(train_set[\"y_train\"]))]\n",
    "\n",
    "X_cv = train_set[\"x_train\"][ceil(CONTROL_DICT[\"cross_validation_size\"]*len(train_set[\"x_train\"])):]\n",
    "y_cv = pd.DataFrame(train_set[\"y_train\"])[[0]].iloc[ceil(CONTROL_DICT[\"cross_validation_size\"]*len(train_set[\"y_train\"])): ]\n",
    "\n",
    "X_test = test_set[\"x_test\"]\n",
    "y_test = pd.DataFrame(test_set[\"y_test\"])[[0]]"
   ]
  },
  {
   "cell_type": "markdown",
   "id": "3f2b94e1",
   "metadata": {},
   "source": [
    "Construction of model\n",
    "\n"
   ]
  },
  {
   "cell_type": "code",
   "execution_count": 4,
   "id": "b0356880",
   "metadata": {
    "scrolled": true
   },
   "outputs": [
    {
     "name": "stdout",
     "output_type": "stream",
     "text": [
      "Epoch 1/50\n",
      "7958/7958 [==============================] - 151s 19ms/step - loss: 0.4009\n",
      "Epoch 2/50\n",
      "7958/7958 [==============================] - 135s 17ms/step - loss: 0.3329\n",
      "Epoch 3/50\n",
      "7958/7958 [==============================] - 138s 17ms/step - loss: 0.2993\n",
      "Epoch 4/50\n",
      "7958/7958 [==============================] - 147s 18ms/step - loss: 0.2753\n",
      "Epoch 5/50\n",
      "7958/7958 [==============================] - 143s 18ms/step - loss: 0.2639\n",
      "Epoch 6/50\n",
      "7958/7958 [==============================] - 138s 17ms/step - loss: 0.2570\n",
      "Epoch 7/50\n",
      "7958/7958 [==============================] - 139s 17ms/step - loss: 0.2524\n",
      "Epoch 8/50\n",
      "7958/7958 [==============================] - 138s 17ms/step - loss: 0.2490\n",
      "Epoch 9/50\n",
      "7958/7958 [==============================] - 137s 17ms/step - loss: 0.2465\n",
      "Epoch 10/50\n",
      "7958/7958 [==============================] - 137s 17ms/step - loss: 0.2442\n",
      "Epoch 11/50\n",
      "7958/7958 [==============================] - 142s 18ms/step - loss: 0.2416\n",
      "Epoch 12/50\n",
      "7958/7958 [==============================] - 138s 17ms/step - loss: 0.2402\n",
      "Epoch 13/50\n",
      "7958/7958 [==============================] - 150s 19ms/step - loss: 0.2387\n",
      "Epoch 14/50\n",
      "7958/7958 [==============================] - 151s 19ms/step - loss: 0.2369\n",
      "Epoch 15/50\n",
      "7958/7958 [==============================] - 151s 19ms/step - loss: 0.2356\n",
      "Epoch 16/50\n",
      "7958/7958 [==============================] - 151s 19ms/step - loss: 0.2345\n",
      "Epoch 17/50\n",
      "7958/7958 [==============================] - 151s 19ms/step - loss: 0.2333\n",
      "Epoch 18/50\n",
      "7958/7958 [==============================] - 151s 19ms/step - loss: 0.2322\n",
      "Epoch 19/50\n",
      "7958/7958 [==============================] - 151s 19ms/step - loss: 0.2311\n",
      "Epoch 20/50\n",
      "7958/7958 [==============================] - 151s 19ms/step - loss: 0.2304\n",
      "Epoch 21/50\n",
      "7958/7958 [==============================] - 151s 19ms/step - loss: 0.2295\n",
      "Epoch 22/50\n",
      "7958/7958 [==============================] - 151s 19ms/step - loss: 0.2288\n",
      "Epoch 23/50\n",
      "7958/7958 [==============================] - 151s 19ms/step - loss: 0.2281\n",
      "Epoch 24/50\n",
      "7958/7958 [==============================] - 149s 19ms/step - loss: 0.2272\n",
      "Epoch 25/50\n",
      "7958/7958 [==============================] - 150s 19ms/step - loss: 0.2262\n",
      "Epoch 26/50\n",
      "7958/7958 [==============================] - 150s 19ms/step - loss: 0.2263\n",
      "Epoch 27/50\n",
      "7958/7958 [==============================] - 150s 19ms/step - loss: 0.2253\n",
      "Epoch 28/50\n",
      "7958/7958 [==============================] - 150s 19ms/step - loss: 0.2249\n",
      "Epoch 29/50\n",
      "7958/7958 [==============================] - 150s 19ms/step - loss: 0.2239\n",
      "Epoch 30/50\n",
      "7958/7958 [==============================] - 150s 19ms/step - loss: 0.2238\n",
      "Epoch 31/50\n",
      "7958/7958 [==============================] - 151s 19ms/step - loss: 0.22333s - \n",
      "Epoch 32/50\n",
      "7958/7958 [==============================] - 141s 18ms/step - loss: 0.2224\n",
      "Epoch 33/50\n",
      "7958/7958 [==============================] - 138s 17ms/step - loss: 0.2220\n",
      "Epoch 34/50\n",
      "7958/7958 [==============================] - 138s 17ms/step - loss: 0.2213\n",
      "Epoch 35/50\n",
      "7958/7958 [==============================] - 139s 17ms/step - loss: 0.2213\n",
      "Epoch 36/50\n",
      "7958/7958 [==============================] - 138s 17ms/step - loss: 0.2209\n",
      "Epoch 37/50\n",
      "7958/7958 [==============================] - 143s 18ms/step - loss: 0.2207\n",
      "Epoch 38/50\n",
      "7958/7958 [==============================] - 150s 19ms/step - loss: 0.2204\n",
      "Epoch 39/50\n",
      "7958/7958 [==============================] - 150s 19ms/step - loss: 0.2197\n",
      "Epoch 40/50\n",
      "7958/7958 [==============================] - 150s 19ms/step - loss: 0.2190\n",
      "Epoch 41/50\n",
      "7958/7958 [==============================] - 150s 19ms/step - loss: 0.2192\n",
      "Epoch 42/50\n",
      "7958/7958 [==============================] - 150s 19ms/step - loss: 0.2188\n",
      "Epoch 43/50\n",
      "7958/7958 [==============================] - 150s 19ms/step - loss: 0.2182\n",
      "Epoch 44/50\n",
      "7958/7958 [==============================] - 150s 19ms/step - loss: 0.2181\n",
      "Epoch 45/50\n",
      "7958/7958 [==============================] - 150s 19ms/step - loss: 0.2182\n",
      "Epoch 46/50\n",
      "7958/7958 [==============================] - 150s 19ms/step - loss: 0.2174\n",
      "Epoch 47/50\n",
      "7958/7958 [==============================] - 151s 19ms/step - loss: 0.2168\n",
      "Epoch 48/50\n",
      "7958/7958 [==============================] - 150s 19ms/step - loss: 0.2170\n",
      "Epoch 49/50\n",
      "7958/7958 [==============================] - 150s 19ms/step - loss: 0.2161\n",
      "Epoch 50/50\n",
      "7958/7958 [==============================] - 150s 19ms/step - loss: 0.2161\n"
     ]
    },
    {
     "data": {
      "text/plain": [
       "<keras.callbacks.History at 0x2186cf44f40>"
      ]
     },
     "execution_count": 4,
     "metadata": {},
     "output_type": "execute_result"
    }
   ],
   "source": [
    "model = get_model(model_selector=\"SLSTM\", \n",
    "                  train_x=X_train)\n",
    "model.fit(x=X_train, \n",
    "          y=y_train, \n",
    "          epochs=CONTROL_DICT[\"EPOCHS\"], \n",
    "          verbose=1, \n",
    "          shuffle=False)"
   ]
  },
  {
   "cell_type": "code",
   "execution_count": null,
   "id": "bee89e03",
   "metadata": {},
   "outputs": [],
   "source": [
    "#Predict testset.\n",
    "y_pred = model.predict(X_test, verbose=0)\n",
    "df = pd.DataFrame(columns=[\"predicted\", \"real\"])\n",
    "df[\"predicted\"] = pd.Series(y_pred.mean(axis=1).round()).astype(int)\n",
    "df[\"real\"] = y_test[0]"
   ]
  },
  {
   "cell_type": "code",
   "execution_count": 313,
   "id": "c0d5e9ad",
   "metadata": {},
   "outputs": [
    {
     "name": "stdout",
     "output_type": "stream",
     "text": [
      "              precision    recall  f1-score   support\n",
      "\n",
      "           1       0.84      0.47      0.60     21054\n",
      "           2       0.82      0.98      0.89     98534\n",
      "           3       0.87      0.45      0.59     19702\n",
      "\n",
      "    accuracy                           0.83    139290\n",
      "   macro avg       0.84      0.63      0.70    139290\n",
      "weighted avg       0.83      0.83      0.81    139290\n",
      "\n",
      "Correct classified percentage of class 1 is: 39.584%\n",
      "Correct classified percentage of class 2 is: 97.792%\n",
      "Correct classified percentage of class 3 is: 38.62%\n",
      "Correct percentage of testset 1 realtion between predicted 1 and 3 is: 96.213%\n",
      "Correct percentage of testset 3 realtion between predicted 1 and 3 is: 95.447%\n"
     ]
    }
   ],
   "source": [
    "print(classification_report(y_true=test_y, y_pred=pd.Series(y_pred.mean(axis=1).round()).astype(int), labels=[1, 2, 3]))\n",
    "print(\"Correct classified percentage of class 1 is: {}%\".format(round(((t1.real.loc[1]*100)/t1.real.sum()),3)))\n",
    "print(\"Correct classified percentage of class 2 is: {}%\".format(round(((t2.real.loc[2]*100)/t2.real.sum()),3)))\n",
    "print(\"Correct classified percentage of class 3 is: {}%\".format(round(((t3.real.loc[3]*100)/t3.real.sum()),3)))\n",
    "print(\"Correct percentage of testset 1 realtion between predicted 1 and 3 is: {}%\".format(round(((t1.real.loc[1]*100)/(t1.real.loc[1]+ t1.real.loc[3])),3)))\n",
    "print(\"Correct percentage of testset 3 realtion between predicted 1 and 3 is: {}%\".format(round(((t3.real.loc[3]*100)/(t3.real.loc[1]+ t3.real.loc[3])),3)))"
   ]
  },
  {
   "cell_type": "code",
   "execution_count": 314,
   "id": "a2855063",
   "metadata": {},
   "outputs": [
    {
     "data": {
      "image/png": "[encoded data removed]",
      "text/plain": [
       "<Figure size 1080x720 with 2 Axes>"
      ]
     },
     "metadata": {
      "needs_background": "light"
     },
     "output_type": "display_data"
    }
   ],
   "source": [
    "get_heatmap_confusion_matrix(df)"
   ]
  },
  {
   "cell_type": "code",
   "execution_count": 315,
   "id": "fac92a5e",
   "metadata": {},
   "outputs": [
    {
     "data": {
      "image/png": "[encoded data removed]",
      "text/plain": [
       "<Figure size 1080x720 with 1 Axes>"
      ]
     },
     "metadata": {
      "needs_background": "light"
     },
     "output_type": "display_data"
    }
   ],
   "source": [
    "plot_groups(df)"
   ]
  }
 ],
 "metadata": {
  "kernelspec": {
   "display_name": "Python 3 (ipykernel)",
   "language": "python",
   "name": "python3"
  },
  "language_info": {
   "codemirror_mode": {
    "name": "ipython",
    "version": 3
   },
   "file_extension": ".py",
   "mimetype": "text/x-python",
   "name": "python",
   "nbconvert_exporter": "python",
   "pygments_lexer": "ipython3",
   "version": "3.8.3"
  }
 },
 "nbformat": 4,
 "nbformat_minor": 5
}
