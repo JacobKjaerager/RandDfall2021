{
 "cells": [
  {
   "cell_type": "code",
   "execution_count": 74,
   "id": "9b02ff3f",
   "metadata": {},
   "outputs": [],
   "source": [
    "import json\n",
    "import random\n",
    "import plotly\n",
    "import numpy as np\n",
    "import pandas as pd\n",
    "import seaborn as sn\n",
    "import tensorflow as tf\n",
    "import scipy.io as spio\n",
    "from pathlib import Path\n",
    "from tensorflow import keras\n",
    "from math import floor, ceil\n",
    "from keras.layers import Dense\n",
    "from keras.layers import LSTM\n",
    "from keras import backend as K\n",
    "import matplotlib.pyplot as plt\n",
    "from keras.utils import np_utils\n",
    "from keras.models import Sequential\n",
    "from datetime import datetime as dt\n",
    "from sklearn.metrics import classification_report, confusion_matrix\n",
    "\n",
    "\n",
    "%matplotlib inline"
   ]
  },
  {
   "cell_type": "code",
   "execution_count": 78,
   "id": "0a66bd9c",
   "metadata": {},
   "outputs": [
    {
     "ename": "TypeError",
     "evalue": "Object of type type is not JSON serializable",
     "output_type": "error",
     "traceback": [
      "\u001b[1;31m---------------------------------------------------------------------------\u001b[0m",
      "\u001b[1;31mTypeError\u001b[0m                                 Traceback (most recent call last)",
      "\u001b[1;32m~\\AppData\\Local\\Temp/ipykernel_18280/1479728112.py\u001b[0m in \u001b[0;36m<module>\u001b[1;34m\u001b[0m\n\u001b[0;32m     23\u001b[0m \u001b[1;32mimport\u001b[0m \u001b[0mos\u001b[0m\u001b[1;33m\u001b[0m\u001b[1;33m\u001b[0m\u001b[0m\n\u001b[0;32m     24\u001b[0m \u001b[1;32mwith\u001b[0m \u001b[0mopen\u001b[0m\u001b[1;33m(\u001b[0m\u001b[1;34m'data.json'\u001b[0m\u001b[1;33m,\u001b[0m \u001b[1;34m'w'\u001b[0m\u001b[1;33m)\u001b[0m \u001b[1;32mas\u001b[0m \u001b[0mfp\u001b[0m\u001b[1;33m:\u001b[0m\u001b[1;33m\u001b[0m\u001b[1;33m\u001b[0m\u001b[0m\n\u001b[1;32m---> 25\u001b[1;33m     \u001b[0mjson\u001b[0m\u001b[1;33m.\u001b[0m\u001b[0mdump\u001b[0m\u001b[1;33m(\u001b[0m\u001b[0mdict\u001b[0m\u001b[1;33m,\u001b[0m \u001b[0mfp\u001b[0m\u001b[1;33m,\u001b[0m  \u001b[0mindent\u001b[0m\u001b[1;33m=\u001b[0m\u001b[1;36m4\u001b[0m\u001b[1;33m)\u001b[0m\u001b[1;33m\u001b[0m\u001b[1;33m\u001b[0m\u001b[0m\n\u001b[0m\u001b[0;32m     26\u001b[0m \u001b[1;33m\u001b[0m\u001b[0m\n",
      "\u001b[1;32mc:\\users\\jacob\\appdata\\local\\programs\\python\\python38\\lib\\json\\__init__.py\u001b[0m in \u001b[0;36mdump\u001b[1;34m(obj, fp, skipkeys, ensure_ascii, check_circular, allow_nan, cls, indent, separators, default, sort_keys, **kw)\u001b[0m\n\u001b[0;32m    177\u001b[0m     \u001b[1;31m# could accelerate with writelines in some versions of Python, at\u001b[0m\u001b[1;33m\u001b[0m\u001b[1;33m\u001b[0m\u001b[1;33m\u001b[0m\u001b[0m\n\u001b[0;32m    178\u001b[0m     \u001b[1;31m# a debuggability cost\u001b[0m\u001b[1;33m\u001b[0m\u001b[1;33m\u001b[0m\u001b[1;33m\u001b[0m\u001b[0m\n\u001b[1;32m--> 179\u001b[1;33m     \u001b[1;32mfor\u001b[0m \u001b[0mchunk\u001b[0m \u001b[1;32min\u001b[0m \u001b[0miterable\u001b[0m\u001b[1;33m:\u001b[0m\u001b[1;33m\u001b[0m\u001b[1;33m\u001b[0m\u001b[0m\n\u001b[0m\u001b[0;32m    180\u001b[0m         \u001b[0mfp\u001b[0m\u001b[1;33m.\u001b[0m\u001b[0mwrite\u001b[0m\u001b[1;33m(\u001b[0m\u001b[0mchunk\u001b[0m\u001b[1;33m)\u001b[0m\u001b[1;33m\u001b[0m\u001b[1;33m\u001b[0m\u001b[0m\n\u001b[0;32m    181\u001b[0m \u001b[1;33m\u001b[0m\u001b[0m\n",
      "\u001b[1;32mc:\\users\\jacob\\appdata\\local\\programs\\python\\python38\\lib\\json\\encoder.py\u001b[0m in \u001b[0;36m_iterencode\u001b[1;34m(o, _current_indent_level)\u001b[0m\n\u001b[0;32m    436\u001b[0m                     \u001b[1;32mraise\u001b[0m \u001b[0mValueError\u001b[0m\u001b[1;33m(\u001b[0m\u001b[1;34m\"Circular reference detected\"\u001b[0m\u001b[1;33m)\u001b[0m\u001b[1;33m\u001b[0m\u001b[1;33m\u001b[0m\u001b[0m\n\u001b[0;32m    437\u001b[0m                 \u001b[0mmarkers\u001b[0m\u001b[1;33m[\u001b[0m\u001b[0mmarkerid\u001b[0m\u001b[1;33m]\u001b[0m \u001b[1;33m=\u001b[0m \u001b[0mo\u001b[0m\u001b[1;33m\u001b[0m\u001b[1;33m\u001b[0m\u001b[0m\n\u001b[1;32m--> 438\u001b[1;33m             \u001b[0mo\u001b[0m \u001b[1;33m=\u001b[0m \u001b[0m_default\u001b[0m\u001b[1;33m(\u001b[0m\u001b[0mo\u001b[0m\u001b[1;33m)\u001b[0m\u001b[1;33m\u001b[0m\u001b[1;33m\u001b[0m\u001b[0m\n\u001b[0m\u001b[0;32m    439\u001b[0m             \u001b[1;32myield\u001b[0m \u001b[1;32mfrom\u001b[0m \u001b[0m_iterencode\u001b[0m\u001b[1;33m(\u001b[0m\u001b[0mo\u001b[0m\u001b[1;33m,\u001b[0m \u001b[0m_current_indent_level\u001b[0m\u001b[1;33m)\u001b[0m\u001b[1;33m\u001b[0m\u001b[1;33m\u001b[0m\u001b[0m\n\u001b[0;32m    440\u001b[0m             \u001b[1;32mif\u001b[0m \u001b[0mmarkers\u001b[0m \u001b[1;32mis\u001b[0m \u001b[1;32mnot\u001b[0m \u001b[1;32mNone\u001b[0m\u001b[1;33m:\u001b[0m\u001b[1;33m\u001b[0m\u001b[1;33m\u001b[0m\u001b[0m\n",
      "\u001b[1;32mc:\\users\\jacob\\appdata\\local\\programs\\python\\python38\\lib\\json\\encoder.py\u001b[0m in \u001b[0;36mdefault\u001b[1;34m(self, o)\u001b[0m\n\u001b[0;32m    177\u001b[0m \u001b[1;33m\u001b[0m\u001b[0m\n\u001b[0;32m    178\u001b[0m         \"\"\"\n\u001b[1;32m--> 179\u001b[1;33m         raise TypeError(f'Object of type {o.__class__.__name__} '\n\u001b[0m\u001b[0;32m    180\u001b[0m                         f'is not JSON serializable')\n\u001b[0;32m    181\u001b[0m \u001b[1;33m\u001b[0m\u001b[0m\n",
      "\u001b[1;31mTypeError\u001b[0m: Object of type type is not JSON serializable"
     ]
    }
   ],
   "source": [
    "CONTROL_DICT = {\n",
    "    \"use_saved_model\": True,\n",
    "    \"model_selector\": \"VLSTM\",\n",
    "    \"EPOCHS\": 3,\n",
    "    \"cross_validation_size\": 1,\n",
    "    \"model_parameters\": {\n",
    "        \"optimizer\": \"adam\",\n",
    "        \"loss_function\": \"mse\",\n",
    "        \"first_layer\": {\n",
    "            \"neurons\": 50,\n",
    "            \"activation_function\": \"tanh\"\n",
    "        },\n",
    "        \"second_layer\": {\n",
    "            \"neurons\": 50,\n",
    "            \"activation_function\": \"tanh\"\n",
    "        }\n",
    "    },\n",
    "    \"data_augmentation\": {\n",
    "        \"mean_value\": 0,\n",
    "        \"std_deviation\": 0.05\n",
    "    }\n",
    "}\n",
    "    "
   ]
  },
  {
   "cell_type": "code",
   "execution_count": 3,
   "id": "3e1a5cdf",
   "metadata": {},
   "outputs": [],
   "source": [
    "def get_noised_data(X_train: np.ndarray, control_dict: dict) -> np.ndarray: \n",
    "    noised_images=[]\n",
    "    for pictures in X_train:\n",
    "        noised_images.append(pictures + np.random.normal(control_dict[\"mean_value\"], \n",
    "                                                         control_dict[\"std_deviation\"], pictures.shape))\n",
    "    return np.array(noised_images)\n",
    "\n",
    "def read_data(base_path, auction = False, normalization = 'Zscore', fold = 9):\n",
    "    # Set Auction or NoAuction\n",
    "    if auction == True:\n",
    "        auc_path = \"Auction\"\n",
    "    else:\n",
    "        auc_path = \"NoAuction\"\n",
    "    # Set normalization\n",
    "    if normalization == 'Zscore':\n",
    "        norm_val = \"1.\"\n",
    "        norm_path = \"_Zscore\"\n",
    "        ex_path = \"_ZScore\"\n",
    "    elif normalization == 'MinMax':\n",
    "        norm_val = \"2.\"\n",
    "        norm_path = \"_MinMax\"\n",
    "        ex_path = \"_MinMax\"\n",
    "    elif normalization == 'DecPre':\n",
    "        norm_val = \"3.\"\n",
    "        norm_path = \"_DecPre\" \n",
    "        ex_path = \"_DecPre\"\n",
    "    else:\n",
    "        print(\"Please choose a supported normalization! IDIOT\")\n",
    "        return\n",
    "    # Set fold\n",
    "    if 0 < fold < 10:\n",
    "        cf = str(fold)\n",
    "    else:\n",
    "        print(\"Please choose a fold between 1-9!\")\n",
    "        return\n",
    "    # Change the txt to numpy array             \n",
    "    train_data = np.loadtxt(base_path + auc_path + \"/\" + norm_val + auc_path + norm_path + \"/\" + auc_path + norm_path + \"_Training/Train_Dst_\" + auc_path + ex_path + \"_CF_\" + cf + \".txt\")\n",
    "    test_data = np.loadtxt(base_path + auc_path + \"/\" + norm_val + auc_path + norm_path + \"/\" + auc_path + norm_path + \"_Testing/Test_Dst_\" + auc_path + ex_path + \"_CF_\" + cf + \".txt\")\n",
    "    # Change numpy array to dataframe\n",
    "    train_data = pd.DataFrame(train_data.T)\n",
    "    test_data = pd.DataFrame(test_data.T)\n",
    "    # Return the data\n",
    "    return train_data, test_data\n",
    "\n",
    "def get_model_data(data, sample_size=100, feature_num=40, target_num=5):\n",
    "    data = data.values\n",
    "    shape = data.shape\n",
    "    X = np.zeros((shape[0]-sample_size, sample_size, feature_num))\n",
    "    Y = np.zeros(shape=(shape[0]-sample_size, target_num))\n",
    "    for i in range(shape[0]-sample_size):\n",
    "        X[i] = data[i:i+sample_size,0:feature_num]# take the first 40 columns as features\n",
    "        Y[i] = data[i+sample_size-1,-target_num:]# take the last 5 columns as labels\n",
    "    X = X.reshape(X.shape[0], sample_size, feature_num, 1)# add the 4th dimension: 1 channel\n",
    "    \n",
    "    # \"Benchmark dataset for mid-price forecasting of limit order book data with machine learning\"\n",
    "    # labels 1: equal to or greater than 0.002\n",
    "    # labels 2: -0.00199 to 0.00199\n",
    "    # labels 3: smaller or equal to -0.002\n",
    "    # Y=Y-1 relabels as 0,1,2\n",
    "    Y = Y-1\n",
    "    return X,Y\n",
    "\n",
    "def get_heatmap_confusion_matrix(df: pd.DataFrame):\n",
    "    plt.figure(figsize = (15,10))\n",
    "    df_cm = pd.DataFrame(confusion_matrix(df.real, df.predicted, normalize=\"true\"), range(1,4,1), range(1,4,1))\n",
    "    sn.heatmap(df_cm, annot=True)\n",
    "\n",
    "\n",
    "def get_model(model_selector: str, train_x: dict) -> Sequential:\n",
    "    model = Sequential()\n",
    "    if model_selector == \"VLSTM\": #Vanilla LSTM        \n",
    "        model.add(\n",
    "            LSTM(units=CONTROL_DICT[\"model_parameters\"][\"first_layer\"][\"neurons\"], \n",
    "                 activation=CONTROL_DICT[\"model_parameters\"][\"first_layer\"][\"activation_function\"],\n",
    "                 input_shape=train_x[0].shape))\n",
    "        model.add(Dense(1))\n",
    "        model.compile(optimizer='adam', loss='mse')\n",
    "        \n",
    "    elif model_selector == \"SLSTM\": #Stacked LSTM\n",
    "        model.add(LSTM(units=CONTROL_DICT[\"model_parameters\"][\"first_layer\"][\"neurons\"], \n",
    "                       activation=CONTROL_DICT[\"model_parameters\"][\"first_layer\"][\"activation_function\"], \n",
    "                       return_sequences=True, \n",
    "                       input_shape=train_x[0].shape))\n",
    "        model.add(LSTM(units=CONTROL_DICT[\"model_parameters\"][\"second_layer\"][\"neurons\"], \n",
    "                       activation=CONTROL_DICT[\"model_parameters\"][\"second_layer\"][\"activation_function\"]))\n",
    "        model.add(Dense(1))\n",
    "        model.compile(optimizer=CONTROL_DICT[\"model_parameters\"][\"optimizer\"], \n",
    "                      loss=CONTROL_DICT[\"model_parameters\"][\"loss_function\"])\n",
    "        \n",
    "    return model\n",
    "\n",
    "def get_groups(df: pd.DataFrame) -> list:\n",
    "    real_groups = df.groupby(\"real\")\n",
    "    t1 = real_groups.get_group(1).groupby(\"predicted\").count()\n",
    "    t2 = real_groups.get_group(2).groupby(\"predicted\").count()\n",
    "    t3 = real_groups.get_group(3).groupby(\"predicted\").count()\n",
    "    return [t1,t2,t3]\n",
    "\n",
    "\n",
    "def print_stats(df: pd.DataFrame):\n",
    "    [t1,t2,t3] = get_groups(df)\n",
    "    print(classification_report(y_true=y_test, y_pred=pd.Series(y_pred.mean(axis=1).round()).astype(int), labels=[1, 2, 3]))\n",
    "    print(\"Correct classified percentage of class 1 is: {}%\".format(round(((t1.real.loc[1]*100)/t1.real.sum()),3)))\n",
    "    print(\"Correct classified percentage of class 2 is: {}%\".format(round(((t2.real.loc[2]*100)/t2.real.sum()),3)))\n",
    "    print(\"Correct classified percentage of class 3 is: {}%\".format(round(((t3.real.loc[3]*100)/t3.real.sum()),3)))\n",
    "    print(\"Correct percentage of testset 1 realtion between predicted 1 and 3 is: {}%\".format(round(((t1.real.loc[1]*100)/(t1.real.loc[1]+ t1.real.loc[3])),3)))\n",
    "    print(\"Correct percentage of testset 3 realtion between predicted 1 and 3 is: {}%\".format(round(((t3.real.loc[3]*100)/(t3.real.loc[1]+ t3.real.loc[3])),3)))\n",
    "\n",
    "def plot_groups(df: pd.DataFrame):    \n",
    "    [t1,t2,t3] = get_groups(df)\n",
    "    plt.rcParams['figure.figsize'] = [15, 10]\n",
    "    labels = t1.index\n",
    "    x = np.arange(len(labels))\n",
    "    width = 0.25\n",
    "    fig, ax = plt.subplots()\n",
    "    first_data_bar = [t1.real.loc[1], t2.real.loc[1], t3.real.loc[1]]\n",
    "    second_data_bar = [t1.real.loc[2], t2.real.loc[2], t3.real.loc[2]]\n",
    "    third_data_bar = [t1.real.loc[3], t2.real.loc[3], t3.real.loc[3]]\n",
    "\n",
    "\n",
    "    rects1 = ax.bar(x - width, first_data_bar, width, label='Predicted as 1')\n",
    "    rects2 = ax.bar(x, second_data_bar, width, label='Predicted as 2')\n",
    "    rects3 = ax.bar(x + width, third_data_bar, width, label='Predicted as 3')\n",
    "    ax.set_xlabel('Correct class')\n",
    "    ax.set_ylabel('Occurences')\n",
    "    ax.set_title('classified as in correct bin')\n",
    "    ax.set_xticks(x)\n",
    "    ax.set_xticklabels(labels)\n",
    "    ax.legend()\n",
    "\n",
    "    ax.bar_label(rects1, padding=3)\n",
    "    ax.bar_label(rects2, padding=3)\n",
    "    ax.bar_label(rects3, padding=3)\n",
    "\n",
    "    #fig.tight_layout()\n",
    "\n",
    "    plt.show()"
   ]
  },
  {
   "cell_type": "markdown",
   "id": "e3ada444",
   "metadata": {},
   "source": [
    "Import of data "
   ]
  },
  {
   "cell_type": "code",
   "execution_count": 4,
   "id": "c4ad0486",
   "metadata": {},
   "outputs": [],
   "source": [
    "train_set = spio.loadmat(\"../deepFold_train\", squeeze_me=True)\n",
    "test_set = spio.loadmat(\"../deepFold_test\", squeeze_me=True)"
   ]
  },
  {
   "cell_type": "code",
   "execution_count": 5,
   "id": "10cae75f",
   "metadata": {},
   "outputs": [],
   "source": [
    "X_train = train_set[\"x_train\"][:ceil(CONTROL_DICT[\"cross_validation_size\"]*len(train_set[\"x_train\"]))]\n",
    "y_train = pd.DataFrame(train_set[\"y_train\"])[[0]].iloc[:ceil(CONTROL_DICT[\"cross_validation_size\"]*len(train_set[\"y_train\"]))]\n",
    "\n",
    "X_cv = train_set[\"x_train\"][ceil(CONTROL_DICT[\"cross_validation_size\"]*len(train_set[\"x_train\"])):]\n",
    "y_cv = pd.DataFrame(train_set[\"y_train\"])[[0]].iloc[ceil(CONTROL_DICT[\"cross_validation_size\"]*len(train_set[\"y_train\"])): ]\n",
    "\n",
    "X_test = test_set[\"x_test\"]\n",
    "y_test = pd.DataFrame(test_set[\"y_test\"])[[0]]"
   ]
  },
  {
   "cell_type": "markdown",
   "id": "2d72cdfc",
   "metadata": {},
   "source": [
    "Construction of model and save of this. \n",
    "\n"
   ]
  },
  {
   "cell_type": "code",
   "execution_count": 6,
   "id": "c8dead97",
   "metadata": {
    "scrolled": true
   },
   "outputs": [],
   "source": [
    "if CONTROL_DICT[\"use_saved_model\"]:\n",
    "    model = keras.models.load_model('saved_model/SLSTM_101EPOCHS_fitted_on(05-10-21 09-06-06)_no_CV_data')\n",
    "else:    \n",
    "    save_folder = 'saved_model\\\\{}_{}EPOCHS_fitted_on({})'.format(CONTROL_DICT[\"model_selector\"], \n",
    "                                                                  CONTROL_DICT[\"EPOCHS\"], \n",
    "                                                                  dt.now().strftime(\"%d-%m-%y %H-%M-%S\"))\n",
    "    model = get_model(model_selector=CONTROL_DICT[\"model_selector\"], \n",
    "                      train_x=X_train)\n",
    "    model.fit(x=X_train, \n",
    "              y=y_train, \n",
    "              epochs=CONTROL_DICT[\"EPOCHS\"], \n",
    "              verbose=1, \n",
    "              shuffle=True)\n",
    "    model.save(save_folder)\n",
    "    CONTROL_DICT"
   ]
  },
  {
   "cell_type": "code",
   "execution_count": 7,
   "id": "77f2d07d",
   "metadata": {},
   "outputs": [
    {
     "name": "stdout",
     "output_type": "stream",
     "text": [
      "4353/4353 [==============================] - 64s 14ms/step\n"
     ]
    }
   ],
   "source": [
    "#Predict testset.\n",
    "y_pred = model.predict(X_test, verbose=1)\n",
    "df = pd.DataFrame(columns=[\"predicted\", \"real\"])\n",
    "df[\"predicted\"] = pd.Series(y_pred.mean(axis=1).round()).astype(int)\n",
    "df[\"real\"] = y_test[0]"
   ]
  },
  {
   "cell_type": "code",
   "execution_count": 8,
   "id": "9ac19490",
   "metadata": {},
   "outputs": [
    {
     "name": "stdout",
     "output_type": "stream",
     "text": [
      "              precision    recall  f1-score   support\n",
      "\n",
      "           1       0.81      0.49      0.61     21054\n",
      "           2       0.83      0.96      0.89     98534\n",
      "           3       0.79      0.51      0.62     19702\n",
      "\n",
      "    accuracy                           0.83    139290\n",
      "   macro avg       0.81      0.65      0.71    139290\n",
      "weighted avg       0.82      0.83      0.81    139290\n",
      "\n",
      "Correct classified percentage of class 1 is: 49.387%\n",
      "Correct classified percentage of class 2 is: 96.2%\n",
      "Correct classified percentage of class 3 is: 50.771%\n",
      "Correct percentage of testset 1 realtion between predicted 1 and 3 is: 93.297%\n",
      "Correct percentage of testset 3 realtion between predicted 1 and 3 is: 93.635%\n"
     ]
    }
   ],
   "source": [
    "print_stats(df)"
   ]
  },
  {
   "cell_type": "code",
   "execution_count": 9,
   "id": "02a41076",
   "metadata": {},
   "outputs": [
    {
     "data": {
      "image/png": "[encoded data removed]",
      "text/plain": [
       "<Figure size 1080x720 with 2 Axes>"
      ]
     },
     "metadata": {
      "needs_background": "light"
     },
     "output_type": "display_data"
    }
   ],
   "source": [
    "get_heatmap_confusion_matrix(df)"
   ]
  },
  {
   "cell_type": "code",
   "execution_count": 10,
   "id": "35849695",
   "metadata": {},
   "outputs": [
    {
     "data": {
      "image/png": "[encoded data removed]",
      "text/plain": [
       "<Figure size 1080x720 with 1 Axes>"
      ]
     },
     "metadata": {
      "needs_background": "light"
     },
     "output_type": "display_data"
    }
   ],
   "source": [
    "plot_groups(df)"
   ]
  },
  {
   "cell_type": "code",
   "execution_count": 28,
   "id": "68d6537f",
   "metadata": {},
   "outputs": [
    {
     "data": {
      "image/png": "[encoded data removed]",
      "text/plain": [
       "<Figure size 1080x720 with 1 Axes>"
      ]
     },
     "metadata": {
      "needs_background": "light"
     },
     "output_type": "display_data"
    }
   ],
   "source": [
    "#Construction of game. \n",
    "#The game uses the dataframe df which has two columns [\"real\", \"predicted\"]. The game matches these columns and rewards \n",
    "#to the fortune when correct and subtracts when incorrect.\n",
    "current_fortune = []\n",
    "possible_positions = []\n",
    "#initial variables \n",
    "initial_stake = 100\n",
    "brokerage = 0.0004 \n",
    "#^jf finnish pricing as \"active trader package \": https://www.nordnet.dk/dk/kundeservice/prisliste/priser-aktiedepot \n",
    "correct_return = 0.002 #1% return when model is correct  #coeffecient is a shot in the dark, and\n",
    "wrong_return = -0.002 #-1% loss when model is incorrect #coeffecient is a shot in the dark\n",
    "uniform_parameter = 0.002 #Random retrun when prediction is 1 or 3 but y_test is 2 #coeffecient is a shot in the dark\n",
    "\n",
    "def update_initail_stake(price_after_purchase_brokage, return_type, brokerage):\n",
    "    \n",
    "    saleable_price = price_after_purchase_brokage*(1+return_type)\n",
    "    return saleable_price*(1 - 1*brokerage)\n",
    "\n",
    "for index, row in df.head(20000).iterrows():\n",
    "    possible_positions.append(index)\n",
    "    current_fortune.append(initial_stake)\n",
    "    price_after_purchase_brokage = initial_stake*(1-brokerage)\n",
    "    if (row[\"real\"] == 1 and row[\"predicted\"] == 1):\n",
    "        initial_stake = update_initail_stake(price_after_purchase_brokage, correct_return, brokerage)\n",
    "    elif (row[\"real\"] == 1 and row[\"predicted\"] == 3):\n",
    "        initail_stake = update_initail_stake(price_after_purchase_brokage, wrong_return, brokerage)\n",
    "    elif (row[\"real\"] == 2 and row[\"predicted\"] == 1):\n",
    "        initial_stake = update_initail_stake(price_after_purchase_brokage, random.uniform(-uniform_parameter, uniform_parameter), brokerage)\n",
    "    elif (row[\"real\"] == 2 and row[\"predicted\"] == 3):\n",
    "        initial_stake = update_initail_stake(price_after_purchase_brokage, random.uniform(-uniform_parameter, uniform_parameter), brokerage)\n",
    "    elif (row[\"real\"] == 3 and row[\"predicted\"] == 1):\n",
    "        initail_stake = update_initail_stake(price_after_purchase_brokage, wrong_return, brokerage)\n",
    "    elif (row[\"real\"] == 3 and row[\"predicted\"] == 3):\n",
    "        initial_stake = update_initail_stake(price_after_purchase_brokage, correct_return, brokerage)\n",
    "\n",
    "plt.plot(possible_positions,current_fortune)\n",
    "plt.show()\n"
   ]
  }
 ],
 "metadata": {
  "kernelspec": {
   "display_name": "Python 3 (ipykernel)",
   "language": "python",
   "name": "python3"
  },
  "language_info": {
   "codemirror_mode": {
    "name": "ipython",
    "version": 3
   },
   "file_extension": ".py",
   "mimetype": "text/x-python",
   "name": "python",
   "nbconvert_exporter": "python",
   "pygments_lexer": "ipython3",
   "version": "3.8.3"
  }
 },
 "nbformat": 4,
 "nbformat_minor": 5
}
